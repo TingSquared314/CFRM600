{
 "cells": [
  {
   "cell_type": "markdown",
   "id": "c5e52cac",
   "metadata": {},
   "source": [
    "<h1>\n",
    "<center>Timing Model</center>\n",
    "</h1>"
   ]
  },
  {
   "cell_type": "markdown",
   "id": "fdc3bfaa",
   "metadata": {},
   "source": [
    "# Packages and Data"
   ]
  },
  {
   "cell_type": "code",
   "execution_count": 1,
   "id": "20727456",
   "metadata": {},
   "outputs": [],
   "source": [
    "import pandas as pd\n",
    "import numpy as np\n",
    "import yfinance as yahooFinance\n",
    "from yahoofinancials import YahooFinancials\n",
    "from fredapi import Fred\n",
    "import datetime as datetime\n",
    "import matplotlib.pyplot as plt"
   ]
  },
  {
   "cell_type": "markdown",
   "id": "e4e5e8d1",
   "metadata": {},
   "source": [
    "We first import the close prices of ETFs for each sector."
   ]
  },
  {
   "cell_type": "code",
   "execution_count": 2,
   "id": "3e2c1de7",
   "metadata": {},
   "outputs": [],
   "source": [
    "def import_fin(ticker):\n",
    "    data = pd.DataFrame(YahooFinancials(ticker).get_historical_price_data(start_date='1901-01-01',\n",
    "                                                                    end_date='2022-06-30',\n",
    "                                                                    time_interval='daily')[ticker]['prices']).drop('date', axis=1).set_index('formatted_date')\n",
    "    price = data['close']\n",
    "    price.index = pd.to_datetime(price.index)\n",
    "    \n",
    "    return price\n",
    "\n",
    "vnq = import_fin(\"VNQ\")\n",
    "xlk = import_fin(\"XLK\")\n",
    "xlf = import_fin(\"XLF\")\n",
    "xlv = import_fin(\"XLV\")\n",
    "xle = import_fin(\"XLE\")\n",
    "xly = import_fin(\"XLY\")\n",
    "xli = import_fin(\"XLI\")\n",
    "xlc = import_fin(\"XLC\")\n",
    "xlp = import_fin(\"XLP\")\n",
    "xlu = import_fin(\"XLU\")\n",
    "xlb = import_fin(\"XLB\")"
   ]
  },
  {
   "cell_type": "markdown",
   "id": "cdc9d2d5",
   "metadata": {},
   "source": [
    "Also, we will only make the decision at the end of each month. So, the following function will extract the data only the the end of each month."
   ]
  },
  {
   "cell_type": "code",
   "execution_count": 3,
   "id": "d447323f",
   "metadata": {},
   "outputs": [],
   "source": [
    "def extract(months):\n",
    "  ind = []\n",
    "  for i in range(1,len(months)):\n",
    "    if months[i-1] != months[i]:\n",
    "      ind.append(i-1)\n",
    "  ind = np.array(ind)\n",
    "  return ind"
   ]
  },
  {
   "cell_type": "markdown",
   "id": "65f322fd",
   "metadata": {},
   "source": [
    "Now, we can extract the prices at the end of each month as shown below."
   ]
  },
  {
   "cell_type": "code",
   "execution_count": 4,
   "id": "7939a2e6",
   "metadata": {},
   "outputs": [
    {
     "data": {
      "text/html": [
       "<div>\n",
       "<style scoped>\n",
       "    .dataframe tbody tr th:only-of-type {\n",
       "        vertical-align: middle;\n",
       "    }\n",
       "\n",
       "    .dataframe tbody tr th {\n",
       "        vertical-align: top;\n",
       "    }\n",
       "\n",
       "    .dataframe thead th {\n",
       "        text-align: right;\n",
       "    }\n",
       "</style>\n",
       "<table border=\"1\" class=\"dataframe\">\n",
       "  <thead>\n",
       "    <tr style=\"text-align: right;\">\n",
       "      <th></th>\n",
       "      <th>VNQ</th>\n",
       "      <th>XLK</th>\n",
       "      <th>XLF</th>\n",
       "      <th>XLV</th>\n",
       "      <th>XLE</th>\n",
       "      <th>XLY</th>\n",
       "      <th>XLI</th>\n",
       "      <th>XLC</th>\n",
       "      <th>XLP</th>\n",
       "      <th>XLU</th>\n",
       "      <th>XLB</th>\n",
       "    </tr>\n",
       "    <tr>\n",
       "      <th>formatted_date</th>\n",
       "      <th></th>\n",
       "      <th></th>\n",
       "      <th></th>\n",
       "      <th></th>\n",
       "      <th></th>\n",
       "      <th></th>\n",
       "      <th></th>\n",
       "      <th></th>\n",
       "      <th></th>\n",
       "      <th></th>\n",
       "      <th></th>\n",
       "    </tr>\n",
       "  </thead>\n",
       "  <tbody>\n",
       "    <tr>\n",
       "      <th>1998-12-31</th>\n",
       "      <td>NaN</td>\n",
       "      <td>32.625000</td>\n",
       "      <td>19.039398</td>\n",
       "      <td>26.000000</td>\n",
       "      <td>23.343750</td>\n",
       "      <td>26.125000</td>\n",
       "      <td>24.562500</td>\n",
       "      <td>NaN</td>\n",
       "      <td>27.156250</td>\n",
       "      <td>30.234375</td>\n",
       "      <td>21.921875</td>\n",
       "    </tr>\n",
       "    <tr>\n",
       "      <th>1999-01-29</th>\n",
       "      <td>NaN</td>\n",
       "      <td>37.812500</td>\n",
       "      <td>19.369415</td>\n",
       "      <td>27.250000</td>\n",
       "      <td>21.812500</td>\n",
       "      <td>27.468750</td>\n",
       "      <td>24.296875</td>\n",
       "      <td>NaN</td>\n",
       "      <td>26.796875</td>\n",
       "      <td>29.484375</td>\n",
       "      <td>21.109375</td>\n",
       "    </tr>\n",
       "    <tr>\n",
       "      <th>1999-02-26</th>\n",
       "      <td>NaN</td>\n",
       "      <td>34.062500</td>\n",
       "      <td>19.674046</td>\n",
       "      <td>27.281250</td>\n",
       "      <td>21.625000</td>\n",
       "      <td>27.296875</td>\n",
       "      <td>24.515625</td>\n",
       "      <td>NaN</td>\n",
       "      <td>26.515625</td>\n",
       "      <td>28.671875</td>\n",
       "      <td>21.437500</td>\n",
       "    </tr>\n",
       "    <tr>\n",
       "      <th>1999-03-31</th>\n",
       "      <td>NaN</td>\n",
       "      <td>36.593750</td>\n",
       "      <td>20.257919</td>\n",
       "      <td>28.000000</td>\n",
       "      <td>24.593750</td>\n",
       "      <td>28.593750</td>\n",
       "      <td>24.937500</td>\n",
       "      <td>NaN</td>\n",
       "      <td>26.437500</td>\n",
       "      <td>26.687500</td>\n",
       "      <td>21.750000</td>\n",
       "    </tr>\n",
       "    <tr>\n",
       "      <th>1999-04-30</th>\n",
       "      <td>NaN</td>\n",
       "      <td>36.812500</td>\n",
       "      <td>21.679529</td>\n",
       "      <td>29.000000</td>\n",
       "      <td>28.234375</td>\n",
       "      <td>29.343750</td>\n",
       "      <td>28.687500</td>\n",
       "      <td>NaN</td>\n",
       "      <td>25.515625</td>\n",
       "      <td>29.265625</td>\n",
       "      <td>27.125000</td>\n",
       "    </tr>\n",
       "    <tr>\n",
       "      <th>...</th>\n",
       "      <td>...</td>\n",
       "      <td>...</td>\n",
       "      <td>...</td>\n",
       "      <td>...</td>\n",
       "      <td>...</td>\n",
       "      <td>...</td>\n",
       "      <td>...</td>\n",
       "      <td>...</td>\n",
       "      <td>...</td>\n",
       "      <td>...</td>\n",
       "      <td>...</td>\n",
       "    </tr>\n",
       "    <tr>\n",
       "      <th>2022-01-31</th>\n",
       "      <td>106.239998</td>\n",
       "      <td>161.970001</td>\n",
       "      <td>39.060001</td>\n",
       "      <td>131.229996</td>\n",
       "      <td>65.919998</td>\n",
       "      <td>184.949997</td>\n",
       "      <td>100.739998</td>\n",
       "      <td>73.949997</td>\n",
       "      <td>75.970001</td>\n",
       "      <td>69.250000</td>\n",
       "      <td>84.449997</td>\n",
       "    </tr>\n",
       "    <tr>\n",
       "      <th>2022-02-28</th>\n",
       "      <td>102.540001</td>\n",
       "      <td>154.070007</td>\n",
       "      <td>38.520000</td>\n",
       "      <td>129.960007</td>\n",
       "      <td>70.580002</td>\n",
       "      <td>177.429993</td>\n",
       "      <td>99.889999</td>\n",
       "      <td>68.449997</td>\n",
       "      <td>74.900002</td>\n",
       "      <td>67.930000</td>\n",
       "      <td>83.379997</td>\n",
       "    </tr>\n",
       "    <tr>\n",
       "      <th>2022-03-31</th>\n",
       "      <td>108.370003</td>\n",
       "      <td>158.929993</td>\n",
       "      <td>38.320000</td>\n",
       "      <td>136.990005</td>\n",
       "      <td>76.440002</td>\n",
       "      <td>185.000000</td>\n",
       "      <td>102.980003</td>\n",
       "      <td>68.779999</td>\n",
       "      <td>75.889999</td>\n",
       "      <td>74.459999</td>\n",
       "      <td>88.150002</td>\n",
       "    </tr>\n",
       "    <tr>\n",
       "      <th>2022-04-29</th>\n",
       "      <td>103.940002</td>\n",
       "      <td>141.419998</td>\n",
       "      <td>34.509998</td>\n",
       "      <td>130.289993</td>\n",
       "      <td>75.150002</td>\n",
       "      <td>162.880005</td>\n",
       "      <td>95.139999</td>\n",
       "      <td>59.060001</td>\n",
       "      <td>77.639999</td>\n",
       "      <td>71.260002</td>\n",
       "      <td>85.029999</td>\n",
       "    </tr>\n",
       "    <tr>\n",
       "      <th>2022-05-31</th>\n",
       "      <td>99.070000</td>\n",
       "      <td>140.449997</td>\n",
       "      <td>35.470001</td>\n",
       "      <td>132.229996</td>\n",
       "      <td>87.199997</td>\n",
       "      <td>154.539993</td>\n",
       "      <td>94.699997</td>\n",
       "      <td>60.180000</td>\n",
       "      <td>74.470001</td>\n",
       "      <td>74.330002</td>\n",
       "      <td>86.029999</td>\n",
       "    </tr>\n",
       "  </tbody>\n",
       "</table>\n",
       "<p>282 rows × 11 columns</p>\n",
       "</div>"
      ],
      "text/plain": [
       "                       VNQ         XLK        XLF         XLV        XLE  \\\n",
       "formatted_date                                                             \n",
       "1998-12-31             NaN   32.625000  19.039398   26.000000  23.343750   \n",
       "1999-01-29             NaN   37.812500  19.369415   27.250000  21.812500   \n",
       "1999-02-26             NaN   34.062500  19.674046   27.281250  21.625000   \n",
       "1999-03-31             NaN   36.593750  20.257919   28.000000  24.593750   \n",
       "1999-04-30             NaN   36.812500  21.679529   29.000000  28.234375   \n",
       "...                    ...         ...        ...         ...        ...   \n",
       "2022-01-31      106.239998  161.970001  39.060001  131.229996  65.919998   \n",
       "2022-02-28      102.540001  154.070007  38.520000  129.960007  70.580002   \n",
       "2022-03-31      108.370003  158.929993  38.320000  136.990005  76.440002   \n",
       "2022-04-29      103.940002  141.419998  34.509998  130.289993  75.150002   \n",
       "2022-05-31       99.070000  140.449997  35.470001  132.229996  87.199997   \n",
       "\n",
       "                       XLY         XLI        XLC        XLP        XLU  \\\n",
       "formatted_date                                                            \n",
       "1998-12-31       26.125000   24.562500        NaN  27.156250  30.234375   \n",
       "1999-01-29       27.468750   24.296875        NaN  26.796875  29.484375   \n",
       "1999-02-26       27.296875   24.515625        NaN  26.515625  28.671875   \n",
       "1999-03-31       28.593750   24.937500        NaN  26.437500  26.687500   \n",
       "1999-04-30       29.343750   28.687500        NaN  25.515625  29.265625   \n",
       "...                    ...         ...        ...        ...        ...   \n",
       "2022-01-31      184.949997  100.739998  73.949997  75.970001  69.250000   \n",
       "2022-02-28      177.429993   99.889999  68.449997  74.900002  67.930000   \n",
       "2022-03-31      185.000000  102.980003  68.779999  75.889999  74.459999   \n",
       "2022-04-29      162.880005   95.139999  59.060001  77.639999  71.260002   \n",
       "2022-05-31      154.539993   94.699997  60.180000  74.470001  74.330002   \n",
       "\n",
       "                      XLB  \n",
       "formatted_date             \n",
       "1998-12-31      21.921875  \n",
       "1999-01-29      21.109375  \n",
       "1999-02-26      21.437500  \n",
       "1999-03-31      21.750000  \n",
       "1999-04-30      27.125000  \n",
       "...                   ...  \n",
       "2022-01-31      84.449997  \n",
       "2022-02-28      83.379997  \n",
       "2022-03-31      88.150002  \n",
       "2022-04-29      85.029999  \n",
       "2022-05-31      86.029999  \n",
       "\n",
       "[282 rows x 11 columns]"
      ]
     },
     "execution_count": 4,
     "metadata": {},
     "output_type": "execute_result"
    }
   ],
   "source": [
    "ETF_list = [vnq,xlk,xlf,xlv,xle,xly,xli,xlc,xlp,xlu,xlb]\n",
    "ETF = []\n",
    "for i in range(len(ETF_list)):\n",
    "    ETF.append(ETF_list[i][extract(ETF_list[i].index.month)])\n",
    "\n",
    "name_list = [\"vnq\", \"xlk\",\"xlf\", \"xlv\", \"xle\", \"xly\", \"xli\", \"xlc\", \"xlp\", \"xlu\", \"xlb\"]\n",
    "table1 = pd.DataFrame(ETF).T\n",
    "table1.columns = [k.upper() for k in name_list]\n",
    "table1"
   ]
  },
  {
   "cell_type": "code",
   "execution_count": 5,
   "id": "8c1c6ed5",
   "metadata": {},
   "outputs": [
    {
     "data": {
      "image/png": "[encoded data removed]",
      "text/plain": [
       "<Figure size 432x288 with 1 Axes>"
      ]
     },
     "metadata": {
      "needs_background": "light"
     },
     "output_type": "display_data"
    }
   ],
   "source": [
    "for i in range(11):\n",
    "    plt.plot(table1.T.iloc[i], label = table1.T.index[i])\n",
    "\n",
    "plt.legend(loc='upper left', bbox_to_anchor=(1,1))\n",
    "plt.show()"
   ]
  },
  {
   "cell_type": "markdown",
   "id": "24aaaefd",
   "metadata": {},
   "source": [
    "Now, the timeing model can be computed using the following function."
   ]
  },
  {
   "cell_type": "code",
   "execution_count": 6,
   "id": "c79971e3",
   "metadata": {},
   "outputs": [],
   "source": [
    "def timing(stock, stock_sma, cash):\n",
    "    port = np.zeros(len(stock))\n",
    "    port[0] = 100\n",
    "    stock_status = True\n",
    "    stock_ret = np.diff(stock)/stock[:-1]\n",
    "    a = 30\n",
    "    for i in range(1,len(stock)):\n",
    "        if (stock[i] >= stock_sma[i]) and stock_status: #stock to stock\n",
    "            port[i] = port[i-1]*(1+stock_ret[i-1])\n",
    "        elif (stock[i] >= stock_sma[i]) and ~stock_status: #cash to stock\n",
    "            port[i] = port[i-1]*(1+stock_ret[i-1])\n",
    "            stock_status = True\n",
    "        elif (stock[i] < stock_sma[i]) and stock_status: #stock to cash\n",
    "            R = cash.iloc[i-1]\n",
    "            port[i] = port[i-1]*(1+R/12)\n",
    "            stock_status = False\n",
    "        elif (stock[i] < stock_sma[i]) and ~stock_status: #cash to cash\n",
    "            port[i] = port[i-1]*(1+R/12)\n",
    "        else:\n",
    "            print(i)\n",
    "\n",
    "    port = pd.DataFrame(port).squeeze()        \n",
    "    port.index = stock.index\n",
    "    \n",
    "    return port"
   ]
  },
  {
   "cell_type": "markdown",
   "id": "bb2d6afc",
   "metadata": {},
   "source": [
    "The main idea of the timing model is the moving average. The following script will be used to compute the moving average."
   ]
  },
  {
   "cell_type": "code",
   "execution_count": 7,
   "id": "36cc163e",
   "metadata": {},
   "outputs": [
    {
     "data": {
      "text/html": [
       "<div>\n",
       "<style scoped>\n",
       "    .dataframe tbody tr th:only-of-type {\n",
       "        vertical-align: middle;\n",
       "    }\n",
       "\n",
       "    .dataframe tbody tr th {\n",
       "        vertical-align: top;\n",
       "    }\n",
       "\n",
       "    .dataframe thead th {\n",
       "        text-align: right;\n",
       "    }\n",
       "</style>\n",
       "<table border=\"1\" class=\"dataframe\">\n",
       "  <thead>\n",
       "    <tr style=\"text-align: right;\">\n",
       "      <th></th>\n",
       "      <th>VNQ</th>\n",
       "      <th>XLK</th>\n",
       "      <th>XLF</th>\n",
       "      <th>XLV</th>\n",
       "      <th>XLE</th>\n",
       "      <th>XLY</th>\n",
       "      <th>XLI</th>\n",
       "      <th>XLC</th>\n",
       "      <th>XLP</th>\n",
       "      <th>XLU</th>\n",
       "      <th>XLB</th>\n",
       "    </tr>\n",
       "    <tr>\n",
       "      <th>formatted_date</th>\n",
       "      <th></th>\n",
       "      <th></th>\n",
       "      <th></th>\n",
       "      <th></th>\n",
       "      <th></th>\n",
       "      <th></th>\n",
       "      <th></th>\n",
       "      <th></th>\n",
       "      <th></th>\n",
       "      <th></th>\n",
       "      <th></th>\n",
       "    </tr>\n",
       "  </thead>\n",
       "  <tbody>\n",
       "    <tr>\n",
       "      <th>1999-10-29</th>\n",
       "      <td>NaN</td>\n",
       "      <td>38.674141</td>\n",
       "      <td>19.974170</td>\n",
       "      <td>28.101953</td>\n",
       "      <td>26.662734</td>\n",
       "      <td>28.013125</td>\n",
       "      <td>27.710313</td>\n",
       "      <td>NaN</td>\n",
       "      <td>25.465547</td>\n",
       "      <td>29.416250</td>\n",
       "      <td>24.449297</td>\n",
       "    </tr>\n",
       "    <tr>\n",
       "      <th>1999-11-30</th>\n",
       "      <td>NaN</td>\n",
       "      <td>39.672109</td>\n",
       "      <td>20.163041</td>\n",
       "      <td>28.266328</td>\n",
       "      <td>27.194219</td>\n",
       "      <td>28.165078</td>\n",
       "      <td>28.106875</td>\n",
       "      <td>NaN</td>\n",
       "      <td>25.337187</td>\n",
       "      <td>29.417031</td>\n",
       "      <td>24.750156</td>\n",
       "    </tr>\n",
       "    <tr>\n",
       "      <th>1999-12-31</th>\n",
       "      <td>NaN</td>\n",
       "      <td>41.465000</td>\n",
       "      <td>20.066321</td>\n",
       "      <td>28.497266</td>\n",
       "      <td>27.643438</td>\n",
       "      <td>28.329453</td>\n",
       "      <td>28.459922</td>\n",
       "      <td>NaN</td>\n",
       "      <td>24.963984</td>\n",
       "      <td>29.437500</td>\n",
       "      <td>25.150391</td>\n",
       "    </tr>\n",
       "    <tr>\n",
       "      <th>2000-01-31</th>\n",
       "      <td>NaN</td>\n",
       "      <td>42.966875</td>\n",
       "      <td>19.824584</td>\n",
       "      <td>28.735391</td>\n",
       "      <td>27.901641</td>\n",
       "      <td>28.332656</td>\n",
       "      <td>28.721328</td>\n",
       "      <td>NaN</td>\n",
       "      <td>24.607969</td>\n",
       "      <td>29.374531</td>\n",
       "      <td>25.443359</td>\n",
       "    </tr>\n",
       "    <tr>\n",
       "      <th>2000-02-29</th>\n",
       "      <td>NaN</td>\n",
       "      <td>44.687500</td>\n",
       "      <td>19.400767</td>\n",
       "      <td>28.762109</td>\n",
       "      <td>27.749766</td>\n",
       "      <td>28.008828</td>\n",
       "      <td>28.441484</td>\n",
       "      <td>NaN</td>\n",
       "      <td>24.193125</td>\n",
       "      <td>29.024687</td>\n",
       "      <td>24.991484</td>\n",
       "    </tr>\n",
       "    <tr>\n",
       "      <th>...</th>\n",
       "      <td>...</td>\n",
       "      <td>...</td>\n",
       "      <td>...</td>\n",
       "      <td>...</td>\n",
       "      <td>...</td>\n",
       "      <td>...</td>\n",
       "      <td>...</td>\n",
       "      <td>...</td>\n",
       "      <td>...</td>\n",
       "      <td>...</td>\n",
       "      <td>...</td>\n",
       "    </tr>\n",
       "    <tr>\n",
       "      <th>2022-01-31</th>\n",
       "      <td>105.77675</td>\n",
       "      <td>154.730100</td>\n",
       "      <td>38.128850</td>\n",
       "      <td>130.190400</td>\n",
       "      <td>53.927750</td>\n",
       "      <td>186.308550</td>\n",
       "      <td>103.248100</td>\n",
       "      <td>79.59565</td>\n",
       "      <td>71.891700</td>\n",
       "      <td>66.918000</td>\n",
       "      <td>85.066750</td>\n",
       "    </tr>\n",
       "    <tr>\n",
       "      <th>2022-02-28</th>\n",
       "      <td>106.36665</td>\n",
       "      <td>156.418850</td>\n",
       "      <td>38.446750</td>\n",
       "      <td>130.926600</td>\n",
       "      <td>55.665150</td>\n",
       "      <td>186.821200</td>\n",
       "      <td>103.001200</td>\n",
       "      <td>78.93160</td>\n",
       "      <td>72.439500</td>\n",
       "      <td>67.018600</td>\n",
       "      <td>85.014700</td>\n",
       "    </tr>\n",
       "    <tr>\n",
       "      <th>2022-03-31</th>\n",
       "      <td>106.83370</td>\n",
       "      <td>158.005300</td>\n",
       "      <td>38.480350</td>\n",
       "      <td>132.085350</td>\n",
       "      <td>58.108850</td>\n",
       "      <td>187.464950</td>\n",
       "      <td>102.675100</td>\n",
       "      <td>77.63890</td>\n",
       "      <td>72.826250</td>\n",
       "      <td>67.671700</td>\n",
       "      <td>84.787450</td>\n",
       "    </tr>\n",
       "    <tr>\n",
       "      <th>2022-04-29</th>\n",
       "      <td>107.41405</td>\n",
       "      <td>158.136501</td>\n",
       "      <td>38.534950</td>\n",
       "      <td>133.123651</td>\n",
       "      <td>60.528600</td>\n",
       "      <td>187.407150</td>\n",
       "      <td>102.399650</td>\n",
       "      <td>76.08215</td>\n",
       "      <td>73.704650</td>\n",
       "      <td>68.759000</td>\n",
       "      <td>85.346550</td>\n",
       "    </tr>\n",
       "    <tr>\n",
       "      <th>2022-05-31</th>\n",
       "      <td>106.52750</td>\n",
       "      <td>156.439951</td>\n",
       "      <td>38.238400</td>\n",
       "      <td>132.932001</td>\n",
       "      <td>63.959300</td>\n",
       "      <td>184.220700</td>\n",
       "      <td>101.361550</td>\n",
       "      <td>73.63110</td>\n",
       "      <td>74.097600</td>\n",
       "      <td>69.349750</td>\n",
       "      <td>85.425750</td>\n",
       "    </tr>\n",
       "  </tbody>\n",
       "</table>\n",
       "<p>272 rows × 11 columns</p>\n",
       "</div>"
      ],
      "text/plain": [
       "                      VNQ         XLK        XLF         XLV        XLE  \\\n",
       "formatted_date                                                            \n",
       "1999-10-29            NaN   38.674141  19.974170   28.101953  26.662734   \n",
       "1999-11-30            NaN   39.672109  20.163041   28.266328  27.194219   \n",
       "1999-12-31            NaN   41.465000  20.066321   28.497266  27.643438   \n",
       "2000-01-31            NaN   42.966875  19.824584   28.735391  27.901641   \n",
       "2000-02-29            NaN   44.687500  19.400767   28.762109  27.749766   \n",
       "...                   ...         ...        ...         ...        ...   \n",
       "2022-01-31      105.77675  154.730100  38.128850  130.190400  53.927750   \n",
       "2022-02-28      106.36665  156.418850  38.446750  130.926600  55.665150   \n",
       "2022-03-31      106.83370  158.005300  38.480350  132.085350  58.108850   \n",
       "2022-04-29      107.41405  158.136501  38.534950  133.123651  60.528600   \n",
       "2022-05-31      106.52750  156.439951  38.238400  132.932001  63.959300   \n",
       "\n",
       "                       XLY         XLI       XLC        XLP        XLU  \\\n",
       "formatted_date                                                           \n",
       "1999-10-29       28.013125   27.710313       NaN  25.465547  29.416250   \n",
       "1999-11-30       28.165078   28.106875       NaN  25.337187  29.417031   \n",
       "1999-12-31       28.329453   28.459922       NaN  24.963984  29.437500   \n",
       "2000-01-31       28.332656   28.721328       NaN  24.607969  29.374531   \n",
       "2000-02-29       28.008828   28.441484       NaN  24.193125  29.024687   \n",
       "...                    ...         ...       ...        ...        ...   \n",
       "2022-01-31      186.308550  103.248100  79.59565  71.891700  66.918000   \n",
       "2022-02-28      186.821200  103.001200  78.93160  72.439500  67.018600   \n",
       "2022-03-31      187.464950  102.675100  77.63890  72.826250  67.671700   \n",
       "2022-04-29      187.407150  102.399650  76.08215  73.704650  68.759000   \n",
       "2022-05-31      184.220700  101.361550  73.63110  74.097600  69.349750   \n",
       "\n",
       "                      XLB  \n",
       "formatted_date             \n",
       "1999-10-29      24.449297  \n",
       "1999-11-30      24.750156  \n",
       "1999-12-31      25.150391  \n",
       "2000-01-31      25.443359  \n",
       "2000-02-29      24.991484  \n",
       "...                   ...  \n",
       "2022-01-31      85.066750  \n",
       "2022-02-28      85.014700  \n",
       "2022-03-31      84.787450  \n",
       "2022-04-29      85.346550  \n",
       "2022-05-31      85.425750  \n",
       "\n",
       "[272 rows x 11 columns]"
      ]
     },
     "execution_count": 7,
     "metadata": {},
     "output_type": "execute_result"
    }
   ],
   "source": [
    "table = pd.DataFrame(ETF_list).T\n",
    "table.columns = [k.upper() for k in name_list]\n",
    "\n",
    "#returns_all = pd.DataFrame.diff(table)/table.shift()\n",
    "#returns_all\n",
    "\n",
    "Mean = table.rolling(200).mean()\n",
    "start_date = Mean.index[200:]\n",
    "Mean = Mean.loc[start_date]\n",
    "Mean = Mean.iloc[extract(xlk['1999-10-08':].index.month)]\n",
    "Mean"
   ]
  },
  {
   "cell_type": "code",
   "execution_count": 8,
   "id": "7a21ceae",
   "metadata": {},
   "outputs": [
    {
     "data": {
      "image/png": "[encoded data removed]",
      "text/plain": [
       "<Figure size 432x288 with 1 Axes>"
      ]
     },
     "metadata": {
      "needs_background": "light"
     },
     "output_type": "display_data"
    }
   ],
   "source": [
    "for i in range(11):\n",
    "    plt.plot(Mean.T.iloc[i], label = Mean.T.index[i])\n",
    "\n",
    "plt.legend(loc='upper left', bbox_to_anchor=(1,1))\n",
    "plt.show()"
   ]
  },
  {
   "cell_type": "code",
   "execution_count": 9,
   "id": "d1420880",
   "metadata": {},
   "outputs": [
    {
     "data": {
      "image/png": "[encoded data removed]",
      "text/plain": [
       "<Figure size 432x288 with 1 Axes>"
      ]
     },
     "metadata": {
      "needs_background": "light"
     },
     "output_type": "display_data"
    }
   ],
   "source": [
    "returns = pd.DataFrame.diff(table1)/table1.shift()\n",
    "returns\n",
    "for i in range(11):\n",
    "    plt.plot(returns.T.iloc[i], label = returns.T.index[i])\n",
    "\n",
    "plt.legend(loc='upper left', bbox_to_anchor=(1,1))\n",
    "plt.show()"
   ]
  },
  {
   "cell_type": "markdown",
   "id": "04d0e6a3",
   "metadata": {},
   "source": [
    "We would like to know the dynamic of switching between ETF and cash. The following graph illustrates how the dynamic went over the time horizon."
   ]
  },
  {
   "cell_type": "code",
   "execution_count": 10,
   "id": "d4bc43d4",
   "metadata": {},
   "outputs": [
    {
     "data": {
      "image/png": "[encoded data removed]",
      "text/plain": [
       "<Figure size 432x288 with 1 Axes>"
      ]
     },
     "metadata": {
      "needs_background": "light"
     },
     "output_type": "display_data"
    }
   ],
   "source": [
    "ind = (table1['1999-11-30':]<Mean['1999-11-30':])*1\n",
    "\n",
    "plt.stackplot(ind.index, ind.T.iloc[0], ind.T.iloc[1], ind.T.iloc[2],ind.T.iloc[3],ind.T.iloc[4],ind.T.iloc[5],ind.T.iloc[6],\n",
    "             ind.T.iloc[7],ind.T.iloc[8],ind.T.iloc[9],ind.T.iloc[10], labels = ind.T.index)\n",
    "plt.legend(loc='upper left', bbox_to_anchor=(1,1))\n",
    "plt.show()"
   ]
  },
  {
   "cell_type": "markdown",
   "id": "f0170770",
   "metadata": {},
   "source": [
    "We also need a risk-free rate, in which we will use 3-month treasury bill in this case."
   ]
  },
  {
   "cell_type": "code",
   "execution_count": 11,
   "id": "e4701624",
   "metadata": {},
   "outputs": [
    {
     "data": {
      "text/plain": [
       "1981-09-01    0.000466\n",
       "1981-09-02    0.000456\n",
       "1981-09-03    0.000465\n",
       "1981-09-04    0.000456\n",
       "1981-09-08    0.000453\n",
       "                ...   \n",
       "2022-08-12    0.000072\n",
       "2022-08-15    0.000075\n",
       "2022-08-16    0.000074\n",
       "2022-08-17    0.000073\n",
       "2022-08-18    0.000074\n",
       "Length: 10242, dtype: float64"
      ]
     },
     "execution_count": 11,
     "metadata": {},
     "output_type": "execute_result"
    }
   ],
   "source": [
    "fred = Fred(api_key='fec003d5c966f4c13258c8476a6b4dba')\n",
    "tbill3mo = fred.get_series('DGS3MO').dropna()/100/365\n",
    "tbill3mo"
   ]
  },
  {
   "cell_type": "code",
   "execution_count": 12,
   "id": "2f3c1ed9",
   "metadata": {},
   "outputs": [
    {
     "data": {
      "text/plain": [
       "formatted_date\n",
       "1999-10-29    0.000140\n",
       "1999-11-30    0.000145\n",
       "1999-12-31    0.000146\n",
       "2000-01-31    0.000158\n",
       "2000-02-29    0.000158\n",
       "                ...   \n",
       "2022-01-31    0.000006\n",
       "2022-02-28    0.000010\n",
       "2022-03-31    0.000014\n",
       "2022-04-29    0.000023\n",
       "2022-05-31    0.000032\n",
       "Length: 272, dtype: float64"
      ]
     },
     "execution_count": 12,
     "metadata": {},
     "output_type": "execute_result"
    }
   ],
   "source": [
    "rf = tbill3mo[Mean.index]\n",
    "rf"
   ]
  },
  {
   "cell_type": "markdown",
   "id": "bb342290",
   "metadata": {},
   "source": [
    "Now, we will apply the timing model for each ETF given that we start will $100."
   ]
  },
  {
   "cell_type": "code",
   "execution_count": 13,
   "id": "fa786022",
   "metadata": {},
   "outputs": [
    {
     "data": {
      "text/html": [
       "<div>\n",
       "<style scoped>\n",
       "    .dataframe tbody tr th:only-of-type {\n",
       "        vertical-align: middle;\n",
       "    }\n",
       "\n",
       "    .dataframe tbody tr th {\n",
       "        vertical-align: top;\n",
       "    }\n",
       "\n",
       "    .dataframe thead th {\n",
       "        text-align: right;\n",
       "    }\n",
       "</style>\n",
       "<table border=\"1\" class=\"dataframe\">\n",
       "  <thead>\n",
       "    <tr style=\"text-align: right;\">\n",
       "      <th></th>\n",
       "      <th>VNQ</th>\n",
       "      <th>XLK</th>\n",
       "      <th>XLF</th>\n",
       "      <th>XLV</th>\n",
       "      <th>XLE</th>\n",
       "      <th>XLY</th>\n",
       "      <th>XLI</th>\n",
       "      <th>XLC</th>\n",
       "      <th>XLP</th>\n",
       "      <th>XLU</th>\n",
       "      <th>XLB</th>\n",
       "    </tr>\n",
       "    <tr>\n",
       "      <th>formatted_date</th>\n",
       "      <th></th>\n",
       "      <th></th>\n",
       "      <th></th>\n",
       "      <th></th>\n",
       "      <th></th>\n",
       "      <th></th>\n",
       "      <th></th>\n",
       "      <th></th>\n",
       "      <th></th>\n",
       "      <th></th>\n",
       "      <th></th>\n",
       "    </tr>\n",
       "  </thead>\n",
       "  <tbody>\n",
       "    <tr>\n",
       "      <th>1999-10-29</th>\n",
       "      <td>NaN</td>\n",
       "      <td>100.000000</td>\n",
       "      <td>100.000000</td>\n",
       "      <td>100.000000</td>\n",
       "      <td>100.000000</td>\n",
       "      <td>100.000000</td>\n",
       "      <td>100.000000</td>\n",
       "      <td>NaN</td>\n",
       "      <td>100.000000</td>\n",
       "      <td>100.000000</td>\n",
       "      <td>100.000000</td>\n",
       "    </tr>\n",
       "    <tr>\n",
       "      <th>1999-11-30</th>\n",
       "      <td>NaN</td>\n",
       "      <td>109.816176</td>\n",
       "      <td>100.001169</td>\n",
       "      <td>101.164725</td>\n",
       "      <td>100.001169</td>\n",
       "      <td>100.055036</td>\n",
       "      <td>100.001169</td>\n",
       "      <td>NaN</td>\n",
       "      <td>100.001169</td>\n",
       "      <td>100.001169</td>\n",
       "      <td>100.001169</td>\n",
       "    </tr>\n",
       "    <tr>\n",
       "      <th>1999-12-31</th>\n",
       "      <td>NaN</td>\n",
       "      <td>126.764706</td>\n",
       "      <td>100.002338</td>\n",
       "      <td>109.650582</td>\n",
       "      <td>100.002338</td>\n",
       "      <td>109.411117</td>\n",
       "      <td>107.671713</td>\n",
       "      <td>NaN</td>\n",
       "      <td>100.002338</td>\n",
       "      <td>100.002338</td>\n",
       "      <td>111.105152</td>\n",
       "    </tr>\n",
       "    <tr>\n",
       "      <th>2000-01-31</th>\n",
       "      <td>NaN</td>\n",
       "      <td>118.970588</td>\n",
       "      <td>100.003507</td>\n",
       "      <td>106.877427</td>\n",
       "      <td>100.003507</td>\n",
       "      <td>109.412449</td>\n",
       "      <td>107.673023</td>\n",
       "      <td>NaN</td>\n",
       "      <td>100.003507</td>\n",
       "      <td>100.003507</td>\n",
       "      <td>111.106504</td>\n",
       "    </tr>\n",
       "    <tr>\n",
       "      <th>2000-02-29</th>\n",
       "      <td>NaN</td>\n",
       "      <td>131.470588</td>\n",
       "      <td>100.004676</td>\n",
       "      <td>106.878832</td>\n",
       "      <td>100.004676</td>\n",
       "      <td>109.413780</td>\n",
       "      <td>107.674334</td>\n",
       "      <td>NaN</td>\n",
       "      <td>100.004676</td>\n",
       "      <td>100.004676</td>\n",
       "      <td>111.107857</td>\n",
       "    </tr>\n",
       "    <tr>\n",
       "      <th>...</th>\n",
       "      <td>...</td>\n",
       "      <td>...</td>\n",
       "      <td>...</td>\n",
       "      <td>...</td>\n",
       "      <td>...</td>\n",
       "      <td>...</td>\n",
       "      <td>...</td>\n",
       "      <td>...</td>\n",
       "      <td>...</td>\n",
       "      <td>...</td>\n",
       "      <td>...</td>\n",
       "    </tr>\n",
       "    <tr>\n",
       "      <th>2022-01-31</th>\n",
       "      <td>1150.096620</td>\n",
       "      <td>8786.641035</td>\n",
       "      <td>2957.020871</td>\n",
       "      <td>2203.229281</td>\n",
       "      <td>7180.052230</td>\n",
       "      <td>6613.454813</td>\n",
       "      <td>3841.613175</td>\n",
       "      <td>171.955790</td>\n",
       "      <td>1586.282150</td>\n",
       "      <td>1601.424691</td>\n",
       "      <td>4392.560785</td>\n",
       "    </tr>\n",
       "    <tr>\n",
       "      <th>2022-02-28</th>\n",
       "      <td>1150.097198</td>\n",
       "      <td>8786.645448</td>\n",
       "      <td>2916.140331</td>\n",
       "      <td>2203.230387</td>\n",
       "      <td>7687.623083</td>\n",
       "      <td>6613.455719</td>\n",
       "      <td>3841.613701</td>\n",
       "      <td>171.955810</td>\n",
       "      <td>1563.940155</td>\n",
       "      <td>1570.899347</td>\n",
       "      <td>4392.561387</td>\n",
       "    </tr>\n",
       "    <tr>\n",
       "      <th>2022-03-31</th>\n",
       "      <td>1215.486984</td>\n",
       "      <td>9063.811452</td>\n",
       "      <td>2916.142661</td>\n",
       "      <td>2322.410952</td>\n",
       "      <td>8325.898441</td>\n",
       "      <td>6613.456625</td>\n",
       "      <td>3960.450438</td>\n",
       "      <td>171.955830</td>\n",
       "      <td>1584.611682</td>\n",
       "      <td>1721.907307</td>\n",
       "      <td>4643.851112</td>\n",
       "    </tr>\n",
       "    <tr>\n",
       "      <th>2022-04-29</th>\n",
       "      <td>1215.488427</td>\n",
       "      <td>9063.822212</td>\n",
       "      <td>2916.144991</td>\n",
       "      <td>2322.413709</td>\n",
       "      <td>8185.390641</td>\n",
       "      <td>6613.457531</td>\n",
       "      <td>3960.455140</td>\n",
       "      <td>171.955849</td>\n",
       "      <td>1621.152339</td>\n",
       "      <td>1647.906526</td>\n",
       "      <td>4643.856625</td>\n",
       "    </tr>\n",
       "    <tr>\n",
       "      <th>2022-05-31</th>\n",
       "      <td>1215.489870</td>\n",
       "      <td>9063.832973</td>\n",
       "      <td>2916.147321</td>\n",
       "      <td>2322.416466</td>\n",
       "      <td>9497.884556</td>\n",
       "      <td>6613.458437</td>\n",
       "      <td>3960.459842</td>\n",
       "      <td>171.955869</td>\n",
       "      <td>1554.961587</td>\n",
       "      <td>1718.901086</td>\n",
       "      <td>4698.470958</td>\n",
       "    </tr>\n",
       "  </tbody>\n",
       "</table>\n",
       "<p>272 rows × 11 columns</p>\n",
       "</div>"
      ],
      "text/plain": [
       "                        VNQ          XLK          XLF          XLV  \\\n",
       "formatted_date                                                       \n",
       "1999-10-29              NaN   100.000000   100.000000   100.000000   \n",
       "1999-11-30              NaN   109.816176   100.001169   101.164725   \n",
       "1999-12-31              NaN   126.764706   100.002338   109.650582   \n",
       "2000-01-31              NaN   118.970588   100.003507   106.877427   \n",
       "2000-02-29              NaN   131.470588   100.004676   106.878832   \n",
       "...                     ...          ...          ...          ...   \n",
       "2022-01-31      1150.096620  8786.641035  2957.020871  2203.229281   \n",
       "2022-02-28      1150.097198  8786.645448  2916.140331  2203.230387   \n",
       "2022-03-31      1215.486984  9063.811452  2916.142661  2322.410952   \n",
       "2022-04-29      1215.488427  9063.822212  2916.144991  2322.413709   \n",
       "2022-05-31      1215.489870  9063.832973  2916.147321  2322.416466   \n",
       "\n",
       "                        XLE          XLY          XLI         XLC  \\\n",
       "formatted_date                                                      \n",
       "1999-10-29       100.000000   100.000000   100.000000         NaN   \n",
       "1999-11-30       100.001169   100.055036   100.001169         NaN   \n",
       "1999-12-31       100.002338   109.411117   107.671713         NaN   \n",
       "2000-01-31       100.003507   109.412449   107.673023         NaN   \n",
       "2000-02-29       100.004676   109.413780   107.674334         NaN   \n",
       "...                     ...          ...          ...         ...   \n",
       "2022-01-31      7180.052230  6613.454813  3841.613175  171.955790   \n",
       "2022-02-28      7687.623083  6613.455719  3841.613701  171.955810   \n",
       "2022-03-31      8325.898441  6613.456625  3960.450438  171.955830   \n",
       "2022-04-29      8185.390641  6613.457531  3960.455140  171.955849   \n",
       "2022-05-31      9497.884556  6613.458437  3960.459842  171.955869   \n",
       "\n",
       "                        XLP          XLU          XLB  \n",
       "formatted_date                                         \n",
       "1999-10-29       100.000000   100.000000   100.000000  \n",
       "1999-11-30       100.001169   100.001169   100.001169  \n",
       "1999-12-31       100.002338   100.002338   111.105152  \n",
       "2000-01-31       100.003507   100.003507   111.106504  \n",
       "2000-02-29       100.004676   100.004676   111.107857  \n",
       "...                     ...          ...          ...  \n",
       "2022-01-31      1586.282150  1601.424691  4392.560785  \n",
       "2022-02-28      1563.940155  1570.899347  4392.561387  \n",
       "2022-03-31      1584.611682  1721.907307  4643.851112  \n",
       "2022-04-29      1621.152339  1647.906526  4643.856625  \n",
       "2022-05-31      1554.961587  1718.901086  4698.470958  \n",
       "\n",
       "[272 rows x 11 columns]"
      ]
     },
     "execution_count": 13,
     "metadata": {},
     "output_type": "execute_result"
    }
   ],
   "source": [
    "port = []\n",
    "for i in range(len(ETF_list)):\n",
    "    m = Mean.T.iloc[i]\n",
    "    m = m[~np.isnan(m)]\n",
    "    t = table1.T.iloc[i]\n",
    "    t = t[~np.isnan(t)]\n",
    "    date = m.index.intersection(t.index)\n",
    "    m = m[date]\n",
    "    t = t[date]\n",
    "    rf2 = rf[date]\n",
    "    port.append(timing(t, m, rf2))\n",
    "\n",
    "port = pd.DataFrame(port).T\n",
    "port.columns = [k.upper() for k in name_list]\n",
    "port   "
   ]
  },
  {
   "cell_type": "markdown",
   "id": "a66d3fe6",
   "metadata": {},
   "source": [
    "Next, we form an equally weighted portfolio from what we have above."
   ]
  },
  {
   "cell_type": "code",
   "execution_count": 14,
   "id": "4de66e9e",
   "metadata": {
    "scrolled": true
   },
   "outputs": [
    {
     "name": "stderr",
     "output_type": "stream",
     "text": [
      "/Users/tingting/opt/anaconda3/lib/python3.9/site-packages/numpy/core/fromnumeric.py:3438: FutureWarning: In a future version, DataFrame.mean(axis=None) will return a scalar mean over the entire DataFrame. To retain the old behavior, use 'frame.mean(axis=0)' or just 'frame.mean()'\n",
      "  return mean(axis=axis, dtype=dtype, out=out, **kwargs)\n"
     ]
    },
    {
     "data": {
      "text/plain": [
       "formatted_date\n",
       "1999-10-29     100.000000\n",
       "1999-11-30     101.226995\n",
       "1999-12-31     107.179180\n",
       "2000-01-31     106.006002\n",
       "2000-02-29     107.396010\n",
       "                 ...     \n",
       "2022-01-31    3680.393767\n",
       "2022-02-28    3718.014779\n",
       "2022-03-31    3867.271226\n",
       "2022-04-29    3851.094908\n",
       "2022-05-31    3975.816270\n",
       "Length: 272, dtype: float64"
      ]
     },
     "execution_count": 14,
     "metadata": {},
     "output_type": "execute_result"
    }
   ],
   "source": [
    "port1 = np.mean(port.T)\n",
    "port1"
   ]
  },
  {
   "cell_type": "markdown",
   "id": "021a9299",
   "metadata": {},
   "source": [
    "The following shows how the benchmark is."
   ]
  },
  {
   "cell_type": "code",
   "execution_count": 15,
   "id": "df469087",
   "metadata": {},
   "outputs": [
    {
     "data": {
      "text/html": [
       "<div>\n",
       "<style scoped>\n",
       "    .dataframe tbody tr th:only-of-type {\n",
       "        vertical-align: middle;\n",
       "    }\n",
       "\n",
       "    .dataframe tbody tr th {\n",
       "        vertical-align: top;\n",
       "    }\n",
       "\n",
       "    .dataframe thead th {\n",
       "        text-align: right;\n",
       "    }\n",
       "</style>\n",
       "<table border=\"1\" class=\"dataframe\">\n",
       "  <thead>\n",
       "    <tr style=\"text-align: right;\">\n",
       "      <th></th>\n",
       "      <th>VNQ</th>\n",
       "      <th>XLK</th>\n",
       "      <th>XLF</th>\n",
       "      <th>XLV</th>\n",
       "      <th>XLE</th>\n",
       "      <th>XLY</th>\n",
       "      <th>XLI</th>\n",
       "      <th>XLC</th>\n",
       "      <th>XLP</th>\n",
       "      <th>XLU</th>\n",
       "      <th>XLB</th>\n",
       "    </tr>\n",
       "    <tr>\n",
       "      <th>formatted_date</th>\n",
       "      <th></th>\n",
       "      <th></th>\n",
       "      <th></th>\n",
       "      <th></th>\n",
       "      <th></th>\n",
       "      <th></th>\n",
       "      <th></th>\n",
       "      <th></th>\n",
       "      <th></th>\n",
       "      <th></th>\n",
       "      <th></th>\n",
       "    </tr>\n",
       "  </thead>\n",
       "  <tbody>\n",
       "    <tr>\n",
       "      <th>1999-10-29</th>\n",
       "      <td>NaN</td>\n",
       "      <td>100.000000</td>\n",
       "      <td>100.000000</td>\n",
       "      <td>100.000000</td>\n",
       "      <td>100.000000</td>\n",
       "      <td>100.000000</td>\n",
       "      <td>100.000000</td>\n",
       "      <td>NaN</td>\n",
       "      <td>100.000000</td>\n",
       "      <td>100.000000</td>\n",
       "      <td>100.000000</td>\n",
       "    </tr>\n",
       "    <tr>\n",
       "      <th>1999-11-30</th>\n",
       "      <td>NaN</td>\n",
       "      <td>109.816176</td>\n",
       "      <td>95.599024</td>\n",
       "      <td>101.164725</td>\n",
       "      <td>99.826590</td>\n",
       "      <td>100.055036</td>\n",
       "      <td>97.777778</td>\n",
       "      <td>NaN</td>\n",
       "      <td>100.314663</td>\n",
       "      <td>96.711900</td>\n",
       "      <td>98.583387</td>\n",
       "    </tr>\n",
       "    <tr>\n",
       "      <th>1999-12-31</th>\n",
       "      <td>NaN</td>\n",
       "      <td>126.764706</td>\n",
       "      <td>92.970656</td>\n",
       "      <td>109.650582</td>\n",
       "      <td>100.231214</td>\n",
       "      <td>109.411117</td>\n",
       "      <td>105.277778</td>\n",
       "      <td>NaN</td>\n",
       "      <td>92.762744</td>\n",
       "      <td>93.997912</td>\n",
       "      <td>109.529942</td>\n",
       "    </tr>\n",
       "    <tr>\n",
       "      <th>2000-01-31</th>\n",
       "      <td>NaN</td>\n",
       "      <td>118.970588</td>\n",
       "      <td>90.220043</td>\n",
       "      <td>106.877427</td>\n",
       "      <td>101.040462</td>\n",
       "      <td>95.817281</td>\n",
       "      <td>96.666667</td>\n",
       "      <td>NaN</td>\n",
       "      <td>93.580868</td>\n",
       "      <td>92.327766</td>\n",
       "      <td>96.136510</td>\n",
       "    </tr>\n",
       "    <tr>\n",
       "      <th>2000-02-29</th>\n",
       "      <td>NaN</td>\n",
       "      <td>131.470588</td>\n",
       "      <td>80.562341</td>\n",
       "      <td>99.889074</td>\n",
       "      <td>96.763006</td>\n",
       "      <td>90.478811</td>\n",
       "      <td>91.333333</td>\n",
       "      <td>NaN</td>\n",
       "      <td>82.630585</td>\n",
       "      <td>81.106472</td>\n",
       "      <td>86.477785</td>\n",
       "    </tr>\n",
       "    <tr>\n",
       "      <th>...</th>\n",
       "      <td>...</td>\n",
       "      <td>...</td>\n",
       "      <td>...</td>\n",
       "      <td>...</td>\n",
       "      <td>...</td>\n",
       "      <td>...</td>\n",
       "      <td>...</td>\n",
       "      <td>...</td>\n",
       "      <td>...</td>\n",
       "      <td>...</td>\n",
       "      <td>...</td>\n",
       "    </tr>\n",
       "    <tr>\n",
       "      <th>2022-01-31</th>\n",
       "      <td>NaN</td>\n",
       "      <td>381.105885</td>\n",
       "      <td>188.099208</td>\n",
       "      <td>465.819175</td>\n",
       "      <td>243.865889</td>\n",
       "      <td>651.447430</td>\n",
       "      <td>358.186659</td>\n",
       "      <td>NaN</td>\n",
       "      <td>305.983642</td>\n",
       "      <td>231.315240</td>\n",
       "      <td>348.023168</td>\n",
       "    </tr>\n",
       "    <tr>\n",
       "      <th>2022-02-28</th>\n",
       "      <td>NaN</td>\n",
       "      <td>362.517664</td>\n",
       "      <td>185.498754</td>\n",
       "      <td>461.311172</td>\n",
       "      <td>261.105209</td>\n",
       "      <td>624.959798</td>\n",
       "      <td>355.164442</td>\n",
       "      <td>NaN</td>\n",
       "      <td>301.674015</td>\n",
       "      <td>226.906055</td>\n",
       "      <td>343.613640</td>\n",
       "    </tr>\n",
       "    <tr>\n",
       "      <th>2022-03-31</th>\n",
       "      <td>NaN</td>\n",
       "      <td>373.952924</td>\n",
       "      <td>184.535621</td>\n",
       "      <td>486.265133</td>\n",
       "      <td>282.783824</td>\n",
       "      <td>651.623555</td>\n",
       "      <td>366.151123</td>\n",
       "      <td>NaN</td>\n",
       "      <td>305.661420</td>\n",
       "      <td>248.718160</td>\n",
       "      <td>363.271095</td>\n",
       "    </tr>\n",
       "    <tr>\n",
       "      <th>2022-04-29</th>\n",
       "      <td>NaN</td>\n",
       "      <td>332.752937</td>\n",
       "      <td>166.187996</td>\n",
       "      <td>462.482505</td>\n",
       "      <td>278.011566</td>\n",
       "      <td>573.710529</td>\n",
       "      <td>338.275553</td>\n",
       "      <td>NaN</td>\n",
       "      <td>312.709878</td>\n",
       "      <td>238.029235</td>\n",
       "      <td>350.413388</td>\n",
       "    </tr>\n",
       "    <tr>\n",
       "      <th>2022-05-31</th>\n",
       "      <td>NaN</td>\n",
       "      <td>330.470581</td>\n",
       "      <td>170.811032</td>\n",
       "      <td>469.368815</td>\n",
       "      <td>322.589584</td>\n",
       "      <td>544.334594</td>\n",
       "      <td>336.711100</td>\n",
       "      <td>NaN</td>\n",
       "      <td>299.942107</td>\n",
       "      <td>248.283931</td>\n",
       "      <td>354.534444</td>\n",
       "    </tr>\n",
       "  </tbody>\n",
       "</table>\n",
       "<p>272 rows × 11 columns</p>\n",
       "</div>"
      ],
      "text/plain": [
       "                VNQ         XLK         XLF         XLV         XLE  \\\n",
       "formatted_date                                                        \n",
       "1999-10-29      NaN  100.000000  100.000000  100.000000  100.000000   \n",
       "1999-11-30      NaN  109.816176   95.599024  101.164725   99.826590   \n",
       "1999-12-31      NaN  126.764706   92.970656  109.650582  100.231214   \n",
       "2000-01-31      NaN  118.970588   90.220043  106.877427  101.040462   \n",
       "2000-02-29      NaN  131.470588   80.562341   99.889074   96.763006   \n",
       "...             ...         ...         ...         ...         ...   \n",
       "2022-01-31      NaN  381.105885  188.099208  465.819175  243.865889   \n",
       "2022-02-28      NaN  362.517664  185.498754  461.311172  261.105209   \n",
       "2022-03-31      NaN  373.952924  184.535621  486.265133  282.783824   \n",
       "2022-04-29      NaN  332.752937  166.187996  462.482505  278.011566   \n",
       "2022-05-31      NaN  330.470581  170.811032  469.368815  322.589584   \n",
       "\n",
       "                       XLY         XLI  XLC         XLP         XLU  \\\n",
       "formatted_date                                                        \n",
       "1999-10-29      100.000000  100.000000  NaN  100.000000  100.000000   \n",
       "1999-11-30      100.055036   97.777778  NaN  100.314663   96.711900   \n",
       "1999-12-31      109.411117  105.277778  NaN   92.762744   93.997912   \n",
       "2000-01-31       95.817281   96.666667  NaN   93.580868   92.327766   \n",
       "2000-02-29       90.478811   91.333333  NaN   82.630585   81.106472   \n",
       "...                    ...         ...  ...         ...         ...   \n",
       "2022-01-31      651.447430  358.186659  NaN  305.983642  231.315240   \n",
       "2022-02-28      624.959798  355.164442  NaN  301.674015  226.906055   \n",
       "2022-03-31      651.623555  366.151123  NaN  305.661420  248.718160   \n",
       "2022-04-29      573.710529  338.275553  NaN  312.709878  238.029235   \n",
       "2022-05-31      544.334594  336.711100  NaN  299.942107  248.283931   \n",
       "\n",
       "                       XLB  \n",
       "formatted_date              \n",
       "1999-10-29      100.000000  \n",
       "1999-11-30       98.583387  \n",
       "1999-12-31      109.529942  \n",
       "2000-01-31       96.136510  \n",
       "2000-02-29       86.477785  \n",
       "...                    ...  \n",
       "2022-01-31      348.023168  \n",
       "2022-02-28      343.613640  \n",
       "2022-03-31      363.271095  \n",
       "2022-04-29      350.413388  \n",
       "2022-05-31      354.534444  \n",
       "\n",
       "[272 rows x 11 columns]"
      ]
     },
     "execution_count": 15,
     "metadata": {},
     "output_type": "execute_result"
    }
   ],
   "source": [
    "bnch = table1['1999-10-29':]/table1['1999-10-29':].iloc[0]*100\n",
    "bnch"
   ]
  },
  {
   "cell_type": "markdown",
   "id": "e0c02039",
   "metadata": {},
   "source": [
    "Then we form a benchmark portfolio."
   ]
  },
  {
   "cell_type": "code",
   "execution_count": 16,
   "id": "89ce56d4",
   "metadata": {},
   "outputs": [
    {
     "name": "stderr",
     "output_type": "stream",
     "text": [
      "/Users/tingting/opt/anaconda3/lib/python3.9/site-packages/numpy/core/fromnumeric.py:3438: FutureWarning: In a future version, DataFrame.mean(axis=None) will return a scalar mean over the entire DataFrame. To retain the old behavior, use 'frame.mean(axis=0)' or just 'frame.mean()'\n",
      "  return mean(axis=axis, dtype=dtype, out=out, **kwargs)\n"
     ]
    },
    {
     "data": {
      "text/plain": [
       "formatted_date\n",
       "1999-10-29    100.000000\n",
       "1999-11-30     99.983253\n",
       "1999-12-31    104.510739\n",
       "2000-01-31     99.070846\n",
       "2000-02-29     93.412444\n",
       "                 ...    \n",
       "2022-01-31    352.649589\n",
       "2022-02-28    346.972306\n",
       "2022-03-31    362.551428\n",
       "2022-04-29    339.174843\n",
       "2022-05-31    341.894021\n",
       "Length: 272, dtype: float64"
      ]
     },
     "execution_count": 16,
     "metadata": {},
     "output_type": "execute_result"
    }
   ],
   "source": [
    "bnch1 = np.mean(bnch.T)\n",
    "bnch1"
   ]
  },
  {
   "cell_type": "code",
   "execution_count": 17,
   "id": "9905ae68",
   "metadata": {},
   "outputs": [
    {
     "data": {
      "image/png": "[encoded data removed]",
      "text/plain": [
       "<Figure size 432x288 with 1 Axes>"
      ]
     },
     "metadata": {
      "needs_background": "light"
     },
     "output_type": "display_data"
    }
   ],
   "source": [
    "plt.plot(port1)\n",
    "plt.plot(bnch1)\n",
    "plt.legend([\"Equally weighted Timing\",\"Benchmark\"])\n",
    "plt.show()"
   ]
  },
  {
   "cell_type": "code",
   "execution_count": 18,
   "id": "f325e327",
   "metadata": {
    "scrolled": true
   },
   "outputs": [
    {
     "data": {
      "image/png": "[encoded data removed]",
      "text/plain": [
       "<Figure size 432x288 with 1 Axes>"
      ]
     },
     "metadata": {
      "needs_background": "light"
     },
     "output_type": "display_data"
    }
   ],
   "source": [
    "plt.plot(port1)\n",
    "plt.plot(bnch1)\n",
    "plt.legend([\"Equally weighted SRT\",\"Benchmark\"])\n",
    "plt.yscale('log',base=2)\n",
    "plt.show()"
   ]
  },
  {
   "cell_type": "markdown",
   "id": "a24376b0",
   "metadata": {},
   "source": [
    "## Performance"
   ]
  },
  {
   "cell_type": "code",
   "execution_count": 19,
   "id": "f22774b7",
   "metadata": {},
   "outputs": [],
   "source": [
    "ret_port = np.diff(port1)/port1[:-1]\n",
    "ret_bnch = np.diff(bnch1)/bnch1[:-1]"
   ]
  },
  {
   "cell_type": "code",
   "execution_count": 20,
   "id": "6e595a8d",
   "metadata": {},
   "outputs": [
    {
     "name": "stdout",
     "output_type": "stream",
     "text": [
      "0.013955136397666672 0.00545366605834432\n"
     ]
    }
   ],
   "source": [
    "print(np.mean(ret_port), np.mean(ret_bnch))"
   ]
  },
  {
   "cell_type": "markdown",
   "id": "658a3caa",
   "metadata": {},
   "source": [
    "The average return is 1.39% compared to the benchmark of 0.54%."
   ]
  },
  {
   "cell_type": "code",
   "execution_count": 21,
   "id": "eafa2153",
   "metadata": {},
   "outputs": [
    {
     "name": "stdout",
     "output_type": "stream",
     "text": [
      "0.02364492315796882 0.042292761894572276\n"
     ]
    }
   ],
   "source": [
    "print(np.std(ret_port), np.std(ret_bnch))"
   ]
  },
  {
   "cell_type": "markdown",
   "id": "e70caed8",
   "metadata": {},
   "source": [
    "The standard deviation is 0.023 compared to 0.042 benchmark."
   ]
  },
  {
   "cell_type": "code",
   "execution_count": 22,
   "id": "89587f2c",
   "metadata": {},
   "outputs": [
    {
     "data": {
      "image/png": "[encoded data removed]",
      "text/plain": [
       "<Figure size 432x288 with 1 Axes>"
      ]
     },
     "metadata": {
      "needs_background": "light"
     },
     "output_type": "display_data"
    }
   ],
   "source": [
    "def DD(ret):\n",
    "  dd = np.zeros(len(ret))\n",
    "  dd[0] = 0\n",
    "  for i in range(1,len(ret)):\n",
    "    dd[i] = min(0,(1+dd[i-1])*(1+ret[i])-1)\n",
    "\n",
    "  dd = pd.DataFrame(dd).squeeze()\n",
    "  dd.index = ret.index\n",
    "  return dd\n",
    "\n",
    "plt.plot(DD(np.diff(port1)/port1[:-1]), label='Equally weighted SRT')\n",
    "plt.plot(DD(np.diff(bnch1)/bnch1[:-1]), label='Benchmark')\n",
    "plt.legend()\n",
    "plt.title(\"Max DD\")\n",
    "plt.show()"
   ]
  },
  {
   "cell_type": "code",
   "execution_count": 23,
   "id": "9e08d5c2",
   "metadata": {},
   "outputs": [
    {
     "name": "stdout",
     "output_type": "stream",
     "text": [
      "-0.08282572332178606 -0.4958796571634596\n"
     ]
    }
   ],
   "source": [
    "print(np.min(DD(ret_port)), np.min(DD(ret_bnch)))"
   ]
  },
  {
   "cell_type": "markdown",
   "id": "aed4bfce",
   "metadata": {},
   "source": [
    "The maximum drawdown is also low, 8.28% compared to benckmark of 49.58%."
   ]
  },
  {
   "cell_type": "code",
   "execution_count": 24,
   "id": "789ea237",
   "metadata": {},
   "outputs": [
    {
     "name": "stdout",
     "output_type": "stream",
     "text": [
      "0.5883111163314382 0.1279321715580487\n"
     ]
    }
   ],
   "source": [
    "sharpe_port = np.mean(ret_port-rf) / np.std(ret_port-rf)\n",
    "sharpe_bnch = np.mean(ret_bnch-rf) / np.std(ret_bnch-rf)\n",
    "\n",
    "print(sharpe_port,sharpe_bnch)"
   ]
  },
  {
   "cell_type": "markdown",
   "id": "75541b75",
   "metadata": {},
   "source": [
    "The sharpe ratio of the portfolio is 0.59, which way outperforms the benchmark of 0.13."
   ]
  },
  {
   "cell_type": "markdown",
   "id": "39cb749d",
   "metadata": {},
   "source": [
    "We can also compute information ratio."
   ]
  },
  {
   "cell_type": "code",
   "execution_count": 25,
   "id": "775f8ad8",
   "metadata": {},
   "outputs": [
    {
     "data": {
      "text/plain": [
       "0.2831621280171129"
      ]
     },
     "execution_count": 25,
     "metadata": {},
     "output_type": "execute_result"
    }
   ],
   "source": [
    "info = np.mean(ret_port-ret_bnch)/np.std(ret_port-ret_bnch)\n",
    "info"
   ]
  },
  {
   "cell_type": "code",
   "execution_count": 26,
   "id": "a10905c2",
   "metadata": {},
   "outputs": [
    {
     "name": "stdout",
     "output_type": "stream",
     "text": [
      "0.16797376176166587 0.010912078968154378\n"
     ]
    }
   ],
   "source": [
    "cal_port = -np.mean(ret_port-rf)/np.min(DD(ret_port))\n",
    "cal_bnch = -np.mean(ret_bnch-rf)/np.min(DD(ret_bnch))\n",
    "print(cal_port,cal_bnch)"
   ]
  },
  {
   "cell_type": "markdown",
   "id": "03035457",
   "metadata": {},
   "source": [
    "The Clamar ratios of the portfolio and the benchmark are 0.08 and 0.008, respectively."
   ]
  }
 ],
 "metadata": {
  "kernelspec": {
   "display_name": "Python 3 (ipykernel)",
   "language": "python",
   "name": "python3"
  },
  "language_info": {
   "codemirror_mode": {
    "name": "ipython",
    "version": 3
   },
   "file_extension": ".py",
   "mimetype": "text/x-python",
   "name": "python",
   "nbconvert_exporter": "python",
   "pygments_lexer": "ipython3",
   "version": "3.9.12"
  }
 },
 "nbformat": 4,
 "nbformat_minor": 5
}
